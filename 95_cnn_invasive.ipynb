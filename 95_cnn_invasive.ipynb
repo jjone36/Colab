{
  "cells": [
    {
      "metadata": {
        "_uuid": "ba9fd00712c1d8a221d8605b2353d6fd85594aaa"
      },
      "cell_type": "markdown",
      "source": "# Building Invasive Species Detector"
    },
    {
      "metadata": {
        "_uuid": "4e2a77f05412b522bd90be0125079ab1a7acfbd4"
      },
      "cell_type": "markdown",
      "source": "Because scientists cannot sample a large quantity of areas, some machine learning algorithms are used in order to predict the presence or absence of invasive species in areas that have not been sampled. The accuracy of this approach is far from optimal, but still contributes to approaches to solving ecological problems.\nThis is developing a model that can identify whether there is invasice hydrangea or not in the photo of forests. [Hydrangea](https://en.wikipedia.org/wiki/Hydrangea) is one kind of flowers native to southern and eastern Asia (China, Japan, Taiwan, Korea, the Himalayas, and Indonesia) and the Americas. \n![img](https://upload.wikimedia.org/wikipedia/commons/7/7a/Hydrangeas_corner.JPG)"
    },
    {
      "metadata": {
        "_uuid": "a97e26c25e55d7bee225b182aa719fa7030c2dfa"
      },
      "cell_type": "markdown",
      "source": "### **Reference**\n* [Kernel by Bukan](https://www.kaggle.com/ambarish/invasive-species-monitoring-analysis)\n* [Kernel by Luis Bronchal](https://www.kaggle.com/lbronchal/keras-pre-trained-vgg16-kaggle-runnable-version)"
    },
    {
      "metadata": {
        "_uuid": "8f2839f25d086af736a60e9eeb907d3b93b6e0e5",
        "_cell_guid": "b1076dfc-b9ad-4769-8c92-a6c4dae69d19",
        "trusted": true
      },
      "cell_type": "code",
      "source": "import pandas as pd\nimport numpy as np\nimport matplotlib.pyplot as plt\nimport seaborn as sns\nimport os",
      "execution_count": null,
      "outputs": []
    },
    {
      "metadata": {
        "trusted": true,
        "_uuid": "6c7b68c43e43cd7a4d36a52955dee5ff50d48aee"
      },
      "cell_type": "code",
      "source": "from tqdm import tqdm\nfrom skimage.transform import resize\n\nfrom keras.models import Model\nfrom keras.layers import Flatten, Dense, Dropout\nfrom keras.callbacks import EarlyStopping\nfrom keras.applications.resnet50 import preprocess_input\nfrom keras.preprocessing.image import ImageDataGenerator\n\nfrom keras.applications.resnet50 import ResNet50",
      "execution_count": null,
      "outputs": []
    },
    {
      "metadata": {
        "_uuid": "3ed3a8da0677ae6f3e309b5d3d82590a96f2eb55"
      },
      "cell_type": "markdown",
      "source": "## 1. Upload data"
    },
    {
      "metadata": {
        "_cell_guid": "79c7e3d0-c299-4dcb-8224-4455121ee9b0",
        "_uuid": "d629ff2d2480ee46fbb7e2d37f6b5fab8052498a",
        "trusted": true
      },
      "cell_type": "code",
      "source": "df = pd.read_csv('../input/train_labels.csv')\ndf.head()",
      "execution_count": null,
      "outputs": []
    },
    {
      "metadata": {
        "trusted": true,
        "_uuid": "e45d704529aa972622719e8d32abf656e4531575"
      },
      "cell_type": "code",
      "source": "len(df)",
      "execution_count": null,
      "outputs": []
    },
    {
      "metadata": {
        "_uuid": "d6f529ef1fdc7c2da8dd83356c36c74cbb3de2dc"
      },
      "cell_type": "markdown",
      "source": "Let's take a glimpse of the name list of train file"
    },
    {
      "metadata": {
        "trusted": true,
        "_uuid": "d8afb1324069873d701acbc49b60d4491b822dd4"
      },
      "cell_type": "code",
      "source": "# File list check\npath = '../input/train/'\nos.listdir(path)[:10]",
      "execution_count": null,
      "outputs": []
    },
    {
      "metadata": {
        "_uuid": "629100c2896fdbe4c02a70c75a3be11068927a79"
      },
      "cell_type": "markdown",
      "source": "Now why don't we see the what kind of picture we have in the file?"
    },
    {
      "metadata": {
        "trusted": true,
        "_uuid": "7a8a8d863257990b9c7b8c087cc54685159e3e39"
      },
      "cell_type": "code",
      "source": "# show the 10 images\nfig, axs = plt.subplots(nrows = 2, ncols = 5, figsize = (20, 20))\n\nfor i in range(10):\n    filename = path + str(i + 1) + '.jpg'\n    img = plt.imread(filename)\n    ax = axs[i//5, i%5]\n    ax.imshow(img)\n    ax.axis('off')\n    plt.tight_layout()",
      "execution_count": null,
      "outputs": []
    },
    {
      "metadata": {
        "_uuid": "76c183fa7c2817f4dd83d69a85c6f9657b71beb2"
      },
      "cell_type": "markdown",
      "source": "Hello, Hydrangea. Let's see the shape of images first"
    },
    {
      "metadata": {
        "trusted": true,
        "_uuid": "d628dda70c5e9daeb629142cbf3cde447d0f91ad"
      },
      "cell_type": "code",
      "source": "# Image size check\nimg.shape",
      "execution_count": null,
      "outputs": []
    },
    {
      "metadata": {
        "_uuid": "fee684c9f0e059694dceb8aa8bad02e8a9fb2c2c"
      },
      "cell_type": "markdown",
      "source": "We need to reshape this image into a proper size before applying. How can we reshape this image then? We can simply use skimage library"
    },
    {
      "metadata": {
        "trusted": true,
        "_uuid": "9513ae9c405ae7c9119c383e576e731a065508b7"
      },
      "cell_type": "code",
      "source": "# Reshape the image\nim_size = 256\n\nimg_2 = resize(img, (im_size, im_size, 3))\nimg_2.shape",
      "execution_count": null,
      "outputs": []
    },
    {
      "metadata": {
        "trusted": true,
        "_uuid": "431d12fc3534c60fbfb7785ae529592b5adf757b"
      },
      "cell_type": "code",
      "source": "# Compare the result\nfig, (ax1, ax2) = plt.subplots(nrows = 1, ncols = 2)\nax1.imshow(img)\nax2.imshow(img_2)",
      "execution_count": null,
      "outputs": []
    },
    {
      "metadata": {
        "_uuid": "da3e6111d00b3f60004233c160322cafd5681d3d"
      },
      "cell_type": "markdown",
      "source": "## 2. Data proprocessing"
    },
    {
      "metadata": {
        "_uuid": "14ba3f47fb2f99130018e1284fe77f63ee75dfe9"
      },
      "cell_type": "markdown",
      "source": "Let's apply all these process into entire dataset!"
    },
    {
      "metadata": {
        "trusted": true,
        "_uuid": "9513ae9c405ae7c9119c383e576e731a065508b7"
      },
      "cell_type": "code",
      "source": "# Upload images\nX = []                                         # initialize a list \n\nfor i in range(len(df)):\n    filename = path + str(i+1) + '.jpg'\n    img = plt.imread(filename) \n    img = resize(img, (im_size, im_size, 3))         # reshape the iamge files\n    img_array = np.array(img) / 255.                        # change image file into numpy array\n    X.append(img_array)",
      "execution_count": null,
      "outputs": []
    },
    {
      "metadata": {
        "trusted": true,
        "_uuid": "c5e10db8ac00e56568a8401c595b5b40b8ac5ac9"
      },
      "cell_type": "code",
      "source": "# Shuffle randomly\nrandom_num = np.random.permutation(len(df))\ny = df.invasive\n\nX_shuffle = []\ny_shuffle = []\nfor i in range(len(df)):\n    X_shuffle.append(X[random_num[i]])\n    y_shuffle.append(y[random_num[i]])",
      "execution_count": null,
      "outputs": []
    },
    {
      "metadata": {
        "trusted": true,
        "_uuid": "fd0f78619a4362985631f7788c540e33771728f0"
      },
      "cell_type": "code",
      "source": "X_shuffle[2].shape",
      "execution_count": null,
      "outputs": []
    },
    {
      "metadata": {
        "trusted": true,
        "_uuid": "6d5b86c2aeab9ebd83fd531aee8d1145c0841fd2"
      },
      "cell_type": "code",
      "source": "print(\"The size of each sample data is {}\".format(X_shuffle[1].shape))\nprint(\"And the number of samples are {}\".format(len(X_shuffle)))",
      "execution_count": null,
      "outputs": []
    },
    {
      "metadata": {
        "trusted": true,
        "_uuid": "268b39b9ce186eee2b122ec9d8942ccb9d30eb5e"
      },
      "cell_type": "code",
      "source": "# Transform into numpy array\nX_shuffle = np.array(X_shuffle)\ny_shuffle = np.array(y_shuffle)\n\n# Split the data into train and valid set\nsplit = int(len(df)*.2)\n\nX_val = X_shuffle[:split]\nX_train = X_shuffle[split:]\ny_val = y_shuffle[:split]\ny_train = y_shuffle[split:]",
      "execution_count": null,
      "outputs": []
    },
    {
      "metadata": {
        "trusted": true,
        "_uuid": "31671cfa5221c83a58adc3ceb1a9929a38c46cd6"
      },
      "cell_type": "code",
      "source": "# Check the result\nprint(\"The size of X_train shape is {}\".format(X_train.shape))\nprint(\"The size of X_val shape is {}\".format(X_val.shape))\nprint(\"The size of y_train shape is {}\".format(y_train.shape))\nprint(\"The size of y_val shape is {}\".format(y_val.shape))",
      "execution_count": null,
      "outputs": []
    },
    {
      "metadata": {
        "_uuid": "f977a1a457c14ec49d6ae24e6d3c6f9427122f73"
      },
      "cell_type": "markdown",
      "source": "## 3. Building - baseline: ResNet50"
    },
    {
      "metadata": {
        "trusted": true,
        "_uuid": "8d2ecce4369fb4783fceda1cb0af66ae36218e2e"
      },
      "cell_type": "code",
      "source": "# Pre-trained model application\nbase_model = ResNet50(weights = None, include_top = False, input_shape=(im_size, im_size, 3))",
      "execution_count": null,
      "outputs": []
    },
    {
      "metadata": {
        "trusted": true,
        "_uuid": "8e961918f0280bfcf4894947afa260f9027a4676"
      },
      "cell_type": "code",
      "source": "base_model.output_shape",
      "execution_count": null,
      "outputs": []
    },
    {
      "metadata": {
        "trusted": true,
        "_uuid": "70503a094619d2f3472b0f94815b5b5c653983ae"
      },
      "cell_type": "code",
      "source": "# modeling\nx = base_model.output\n\nx = Flatten()(x)\nx = Dropout(.5)(x)\npred = Dense(output_dim = 1, activation = 'sigmoid')(x)\n\nmodel = Model(base_model.input, pred)\n\nmodel.compile(optimizer = 'adam', loss = 'binary_crossentropy', metrics = ['accuracy'])\nmodel.summary()",
      "execution_count": null,
      "outputs": []
    },
    {
      "metadata": {
        "trusted": true,
        "_uuid": "1719907a1b4fc8dba5e63417efb62facbb0b21c3"
      },
      "cell_type": "code",
      "source": "# Layer training set\nfor layer in base_model.layers:\n    layer.trainable = False",
      "execution_count": null,
      "outputs": []
    },
    {
      "metadata": {
        "trusted": true,
        "_uuid": "1a6027b63b2d78a1c417c52413817331f5a4b060"
      },
      "cell_type": "code",
      "source": "# Early Stop\nstopper = EarlyStopping(patience = 2)",
      "execution_count": null,
      "outputs": []
    },
    {
      "metadata": {
        "_uuid": "2e6a0ca20cf4b124bc228fb7ee2975a4b53b210a"
      },
      "cell_type": "markdown",
      "source": "## 4. Image Augmentation"
    },
    {
      "metadata": {
        "trusted": true,
        "_uuid": "4ab21e7c69baeb28a1ea73bf54b99f420806e15d"
      },
      "cell_type": "code",
      "source": "batch_size = 50\nepochs = 10",
      "execution_count": null,
      "outputs": []
    },
    {
      "metadata": {
        "trusted": true,
        "_uuid": "6fc53e58d22ca17ee37d8dac1c97c6aa226cbf39"
      },
      "cell_type": "code",
      "source": "path",
      "execution_count": null,
      "outputs": []
    },
    {
      "metadata": {
        "trusted": true,
        "_uuid": "6434cde560287c98323604bc27dc1358c07ccb5a"
      },
      "cell_type": "code",
      "source": "train_gen = ImageDataGenerator(preprocessing_function = preprocess_input,\n                               shear_range = 0.2,\n                               zoom_range = 0.2,\n                               horizontal_flip = True)\ntrain_generator = train_gen.flow_from_directory('../input/train',\n                                                target_size = (im_size, im_size),\n                                                batch_size = 32,\n                                                class_mode ='binary')",
      "execution_count": null,
      "outputs": []
    },
    {
      "metadata": {
        "trusted": true,
        "_uuid": "b1223b1f357f9d1ba3385eb7afc4ce791abe654c"
      },
      "cell_type": "code",
      "source": "val_gen = ImageDataGenerator(preprocessing_function = preprocess_input)\nval_generator = val_gen.flow_from_directory('../input/train',\n                                            target_size = (im_size, im_size),\n                                            class_mode = 'binary')",
      "execution_count": null,
      "outputs": []
    },
    {
      "metadata": {
        "trusted": true,
        "_uuid": "1072175a48b91c4d4e95fa7a840c52a03861d63f"
      },
      "cell_type": "code",
      "source": "# Fitting\nhistory = model.fit_generator(train_generator,\n                              steps_per_epoch= X_train.shape[0] // batch_size,\n                              epochs = epochs,\n                              validation_data = val_generator,\n                              validation_steps = X_val.shape[0] // batch_size)",
      "execution_count": null,
      "outputs": []
    },
    {
      "metadata": {
        "trusted": true,
        "_uuid": "f5f7e61c025e8a945ba8bd0c7ce4f19ec3e93114"
      },
      "cell_type": "markdown",
      "source": "## 5. Evaluation"
    },
    {
      "metadata": {
        "trusted": true,
        "_uuid": "56ffb86f10383f1c216b996196cf4e5921000486"
      },
      "cell_type": "code",
      "source": "# Train and validation curves with ResNet50\nfig, (ax1, ax2) = plt.subplots(2, 1)\nax1.plot(history.history['loss'], color = 'b', label = 'Train Loss')\nax1.plot(history.history['val_loss'], color = 'm', label = 'Valid Loss')\nax1.legend(loc = 'best')\n\nax2.plot(history.history['acc'], color = 'b', label = 'Train Accuracy')\nax2.plot(history.history['val_acc'], color = 'm', label = 'Valid Accuracy')\nax2.legend(loc = 'best')",
      "execution_count": null,
      "outputs": []
    },
    {
      "metadata": {
        "_uuid": "a9bf2315abed2ecbfc157d114ef61e1d9c3a065e"
      },
      "cell_type": "markdown",
      "source": "## 6. Submission"
    },
    {
      "metadata": {
        "trusted": true,
        "_uuid": "6e098f25f6e5251a776e73987a34a0ccbdee833d"
      },
      "cell_type": "code",
      "source": "sample = pd.read_csv(\"../input/sample_submission.csv\")\nsample.head()",
      "execution_count": null,
      "outputs": []
    },
    {
      "metadata": {
        "trusted": true,
        "_uuid": "6e098f25f6e5251a776e73987a34a0ccbdee833d"
      },
      "cell_type": "code",
      "source": "img_path = \"../input/test/\"\ntest_names = []\nfile_paths = []\n\nfor i in range(len(sample_submission)):\n    test_names.append(sample_submission.iloc[i][0])\n    file_paths.append( img_path + str(int(sample_submission.iloc[i][0])) +'.jpg' )\n    \ntest_names = np.array(test_names)",
      "execution_count": null,
      "outputs": []
    },
    {
      "metadata": {
        "trusted": true,
        "_uuid": "144e6429c1e9fc3ec5a4d59d640bdb85e76cf441"
      },
      "cell_type": "code",
      "source": "test_images = test_images.astype('float32')\ntest_images /= 255",
      "execution_count": null,
      "outputs": []
    },
    {
      "metadata": {
        "trusted": true,
        "_uuid": "144e6429c1e9fc3ec5a4d59d640bdb85e76cf441"
      },
      "cell_type": "code",
      "source": "predictions = model.predict(test_images)\n\nsample_submission = pd.read_csv(\"../input/sample_submission.csv\")\n\nfor i, name in enumerate(test_names):\n    sample_submission.loc[sample_submission['name'] == name, 'invasive'] = predictions[i]\n\nsample_submission.to_csv(\"submit.csv\", index=False)",
      "execution_count": null,
      "outputs": []
    },
    {
      "metadata": {
        "trusted": true,
        "_uuid": "67be11f66d428b41ec38e479d8314d0cf731811e"
      },
      "cell_type": "code",
      "source": "",
      "execution_count": null,
      "outputs": []
    }
  ],
  "metadata": {
    "kernelspec": {
      "display_name": "Python 3",
      "language": "python",
      "name": "python3"
    },
    "language_info": {
      "name": "python",
      "version": "3.6.6",
      "mimetype": "text/x-python",
      "codemirror_mode": {
        "name": "ipython",
        "version": 3
      },
      "pygments_lexer": "ipython3",
      "nbconvert_exporter": "python",
      "file_extension": ".py"
    }
  },
  "nbformat": 4,
  "nbformat_minor": 1
}
{
  "cells": [
    {
      "metadata": {
        "_cell_guid": "79c7e3d0-c299-4dcb-8224-4455121ee9b0",
        "_uuid": "d629ff2d2480ee46fbb7e2d37f6b5fab8052498a",
        "trusted": true
      },
      "cell_type": "code",
      "source": "import pandas as pd\nimport numpy as np\nimport matplotlib.pyplot as plt\nimport seaborn as sns\nimport os",
      "execution_count": null,
      "outputs": []
    },
    {
      "metadata": {
        "trusted": true,
        "_uuid": "01834b0450ce42bd6235437e12589b2ec6063a07"
      },
      "cell_type": "code",
      "source": "from sklearn.linear_model import LogisticRegression\nfrom sklearn.svm import SVC\nfrom sklearn.naive_bayes import GaussianNB\nfrom sklearn.ensemble import RandomForestClassifier\nfrom sklearn.ensemble import AdaBoostClassifier\nfrom sklearn.ensemble import GradientBoostingClassifier\nfrom xgboost import XGBClassifier\nfrom sklearn.metrics import accuracy_score",
      "execution_count": null,
      "outputs": []
    },
    {
      "metadata": {
        "trusted": true,
        "_uuid": "f51f500170167007d9cfba265881f71a7ce3aa3d"
      },
      "cell_type": "code",
      "source": "import keras\nfrom keras.models import Sequential\nfrom keras.layers import Dense\nfrom keras.callbacks import EarlyStopping",
      "execution_count": null,
      "outputs": []
    },
    {
      "metadata": {
        "_uuid": "f46a7636f7d59d621088249ed1533b7786592614"
      },
      "cell_type": "markdown",
      "source": "## 1. Import the data"
    },
    {
      "metadata": {
        "trusted": true,
        "_uuid": "76bebc11f7c49c8ec18a6e6d102b03b3dea84efc"
      },
      "cell_type": "code",
      "source": "df = pd.read_csv(\"../input/WA_Fn-UseC_-Telco-Customer-Churn.csv\")\ndf.head()",
      "execution_count": null,
      "outputs": []
    },
    {
      "metadata": {
        "trusted": true,
        "_uuid": "ee2329b72fc8d51d95b576ea9a4f94a76e9e0031"
      },
      "cell_type": "code",
      "source": "df.info()",
      "execution_count": null,
      "outputs": []
    },
    {
      "metadata": {
        "trusted": true,
        "_uuid": "705085e43b520c65b9a2ea14745480073ebc0aa7"
      },
      "cell_type": "code",
      "source": "# Transform TotalCharges into numeric \ndf['TotalCharges'] = pd.to_numeric(df.TotalCharges, errors = 'coerce')",
      "execution_count": null,
      "outputs": []
    },
    {
      "metadata": {
        "trusted": true,
        "_uuid": "f068892511565ea310d66bedcbd3cb432911f11c"
      },
      "cell_type": "code",
      "source": "# Checking SeniorCitizen \ndf.SeniorCitizen.describe()",
      "execution_count": null,
      "outputs": []
    },
    {
      "metadata": {
        "trusted": true,
        "_uuid": "6cb11037fa2a359b36ef8bf8c311f8ce90e82222"
      },
      "cell_type": "code",
      "source": "# check the number of NAs for each columns\ndf.isnull().sum()",
      "execution_count": null,
      "outputs": []
    },
    {
      "metadata": {
        "trusted": true,
        "_uuid": "6e49b9e29e2ba4db5d4ddbee8979d18007e7d34b"
      },
      "cell_type": "code",
      "source": "# Drop NAs\ndf = df.dropna()",
      "execution_count": null,
      "outputs": []
    },
    {
      "metadata": {
        "_uuid": "945c90834555af078b3762435369b58833a4b1a4"
      },
      "cell_type": "markdown",
      "source": "## 2. Data Exploratory"
    },
    {
      "metadata": {
        "_uuid": "f50ce172f7cc7e3c3e90330355b1163281ff8479"
      },
      "cell_type": "markdown",
      "source": "We can divide variables into two kinds: Continuous variables and Discontious varibles (which also means binary case). Let's check the binary cases first. "
    },
    {
      "metadata": {
        "trusted": true,
        "_uuid": "be4d4173bc944d81ae00e3d8e98c5215069e4a63"
      },
      "cell_type": "code",
      "source": "df.columns",
      "execution_count": null,
      "outputs": []
    },
    {
      "metadata": {
        "trusted": true,
        "_uuid": "4bc035d4ef0f38f5bbf8659fc0b83bc07564932f"
      },
      "cell_type": "code",
      "source": "# Checking SeniorCitizen \ndf.SeniorCitizen.describe()",
      "execution_count": null,
      "outputs": []
    },
    {
      "metadata": {
        "trusted": true,
        "_uuid": "a08ec4f5622a0edf57c921da687f24e3ff7b3f65"
      },
      "cell_type": "code",
      "source": "# Get the list of variables into two groups\nX_numeric = df.columns[df.dtypes != 'object'].tolist()\nX_binary = df.columns[df.dtypes == 'object'].tolist()\n\nprint(\"There are {} numeric variables with {}\".format(len(X_numeric), X_numeric))\nprint(\"There are {} binary variables with {}\".format(len(X_binary), X_binary))",
      "execution_count": null,
      "outputs": []
    },
    {
      "metadata": {
        "trusted": true,
        "_uuid": "5224cbabac870d7798e5039e8be2ea53b69c3952"
      },
      "cell_type": "code",
      "source": "X_binary = X_binary[1:-1]\nX_binary.append(X_numeric[0])\nX_numeric = X_numeric[1:]\n\nprint(\"There are {} continous variables with {}\".format(len(X_numeric), X_numeric))\nprint(\"There are {} binary variables with {}\".format(len(X_binary), X_binary))",
      "execution_count": null,
      "outputs": []
    },
    {
      "metadata": {
        "trusted": true,
        "_uuid": "d5aa3cbaeee542e3cf477c06b309fa6be6f0d1aa"
      },
      "cell_type": "code",
      "source": "# The distribution of binary variables\nfig, axes = plt.subplots(nrows = 4, ncols = 4, figsize = (20, 20))\n\nfor i in range(0, 16):\n    ax = axes[i//4, i%4]\n    sns.countplot(x = X_binary[i], data = df, hue = df.Churn, dodge = False, ax = ax)\n    plt.subplots_adjust(wspace = .5, hspace = .5)\n    plt.title(str(X_binary[i]))",
      "execution_count": null,
      "outputs": []
    },
    {
      "metadata": {
        "trusted": true,
        "_uuid": "3aa1bc4c64d704ccb17c48b6d7a33b6dff014fb8"
      },
      "cell_type": "code",
      "source": "# The distribution of binary variables\nfig, axes = plt.subplots(nrows = 3, figsize = (10, 5))\n\nfor i in range(0, 3):\n    ax = axes[i]\n    sns.kdeplot(df[X_numeric[i]], shade = 'b', ax = ax)\n    plt.subplots_adjust(wspace = .5, hspace = .5)",
      "execution_count": null,
      "outputs": []
    },
    {
      "metadata": {
        "_uuid": "9d3cdc8b587c9be8797893f7c11df60ec56bd51d"
      },
      "cell_type": "markdown",
      "source": "## 3. Preprocessing"
    },
    {
      "metadata": {
        "trusted": true,
        "_uuid": "ec5c225b82409fce1f853c40ed4a6c5b0ba9dc46"
      },
      "cell_type": "code",
      "source": "from sklearn.preprocessing import LabelEncoder\nfrom sklearn.preprocessing import StandardScaler",
      "execution_count": null,
      "outputs": []
    },
    {
      "metadata": {
        "trusted": true,
        "_uuid": "aea2f7213ef0efd72dc19a9e64b5219583f8ea56"
      },
      "cell_type": "code",
      "source": "# Encoding the target variable\nlabelencoder = LabelEncoder()\ny = df.Churn\ny = labelencoder.fit_transform(y)",
      "execution_count": null,
      "outputs": []
    },
    {
      "metadata": {
        "trusted": true,
        "_uuid": "41d2d98cd6174b0147c7a6b7a3b0b94f95ab1261"
      },
      "cell_type": "code",
      "source": "# Drop the target variable\ndf = df.drop(['customerID','Churn'], axis = 1)\n\n# Encoding the bianry variables\nfor i in X_binary:\n    df[i] = labelencoder.fit_transform(df[i])\n    \ndf.head()",
      "execution_count": null,
      "outputs": []
    },
    {
      "metadata": {
        "trusted": true,
        "_uuid": "a9ca4f33805c61c8c6c0f878fdee3a7bea7e1edb"
      },
      "cell_type": "code",
      "source": "# Standardize the numeric data\nscaler = StandardScaler()\ndf[X_numeric] = scaler.fit_transform(df[X_numeric])\n\nX = df\nX.head()",
      "execution_count": null,
      "outputs": []
    },
    {
      "metadata": {
        "trusted": true,
        "_uuid": "b790835c6fba6b334886d603e6fe8f6870d69090"
      },
      "cell_type": "code",
      "source": "from sklearn.model_selection import train_test_split\nX_train, X_test, y_train, y_test = train_test_split(X, y, test_size = .2, random_state = 42)",
      "execution_count": null,
      "outputs": []
    },
    {
      "metadata": {
        "_uuid": "f12a0675a972b7b6b9e37fd53807f61d0ca99b38"
      },
      "cell_type": "markdown",
      "source": "## 4, Modeling"
    },
    {
      "metadata": {
        "trusted": true,
        "_uuid": "e15daef51c671f9a811fba4b0ed0443b37cef7a9"
      },
      "cell_type": "code",
      "source": "model_dic = {'logistic': LogisticRegression(),\n             'gaussian': GaussianNB(),\n             'randomforest' : RandomForestClassifier(),\n             'adaboost' : AdaBoostClassifier(),\n             'gradientboost' : GradientBoostingClassifier(),\n             'xgb' : XGBClassifier(objective = 'binary:logistic')}",
      "execution_count": null,
      "outputs": []
    },
    {
      "metadata": {
        "trusted": true,
        "_uuid": "ada3cbc0f924d325ab70b1a83b5d48a48d0008ce"
      },
      "cell_type": "code",
      "source": "pred_df = pd.DataFrame()\npred_df['actual'] = y_test\n\nfor index, val in enumerate(model_dic):\n    clas = model_dic[val]\n    clas.fit(X_train, y_train)\n    pred = clas.predict(X_test)\n    pred_df[val] = pred\n    print(val, \": \", accuracy_score(y_test, pred))",
      "execution_count": null,
      "outputs": []
    },
    {
      "metadata": {
        "_uuid": "8e8ca2e4a46af211ea6180e93904fbbe95435da6"
      },
      "cell_type": "markdown",
      "source": "## 5. Modeling with Keras"
    },
    {
      "metadata": {
        "trusted": true,
        "_uuid": "9a1fdb605abf85b782834c2f6aef96addd2a44dc"
      },
      "cell_type": "code",
      "source": "input_node = X_train.shape[1]\ninput_node",
      "execution_count": null,
      "outputs": []
    },
    {
      "metadata": {
        "trusted": true,
        "_uuid": "b274f0efd33fe9a0e816053797d98d07fbc8ab22"
      },
      "cell_type": "code",
      "source": "# Initialize the model \nmodel = Sequential()\n\n# Create hidden layers \nmodel.add(Dense(input_dim = input_node, output_dim = 10, activation = 'relu'))\nmodel.add(Dense(output_dim = 5, activation= 'relu'))\nmodel.add(Dense(output_dim = 1, activation= 'sigmoid'))\n\n# Backpropagation\nmodel.compile(optimizer = 'adam', loss = 'binary_crossentropy', metrics = ['accuracy'])\n\n# Callbacks \nearly_stopper = EarlyStopping(patience = 5)\n\n# Summary\nmodel.summary()",
      "execution_count": null,
      "outputs": []
    },
    {
      "metadata": {
        "_kg_hide-output": true,
        "trusted": true,
        "_uuid": "51271b96d5854efafc10c59302152c4483e40bd5",
        "scrolled": true
      },
      "cell_type": "code",
      "source": "# Fitting \nmodel.fit(X_train, y_train, batch_size = 10, epochs = 50, callbacks = [early_stopper]) \ny_pred_ann = model.predict_proba(X_test)",
      "execution_count": null,
      "outputs": []
    },
    {
      "metadata": {
        "trusted": true,
        "_uuid": "9ec60d28602b1496a1e58d88f5d367ac8ac75f3d"
      },
      "cell_type": "code",
      "source": "pred_df['keras'] = (y_pred_ann >= .5)*1",
      "execution_count": null,
      "outputs": []
    },
    {
      "metadata": {
        "trusted": true,
        "_uuid": "61c921cf4d58a395565adfb8b501c57875d67e45"
      },
      "cell_type": "code",
      "source": "pred_df.head()",
      "execution_count": null,
      "outputs": []
    },
    {
      "metadata": {
        "trusted": true,
        "_uuid": "85d1f5f9a87c5de799d4d3cc278f5a16578262f6"
      },
      "cell_type": "code",
      "source": "# Acuuracy score \naccuracy_score(y_test, pred_df.keras)",
      "execution_count": null,
      "outputs": []
    },
    {
      "metadata": {
        "trusted": true,
        "_uuid": "650850efd81a8c044fb8b8e0632ac4a34b0d8a10"
      },
      "cell_type": "code",
      "source": "fig, axs = plt.subplots(nrows = 4, ncols = 2, figsize = (15, 15))\n\nfor index, val in enumerate(pred_df.columns):\n    ax = axs[index // 2, index % 2]\n    sns.countplot(x = val, data = pred_df, ax = ax)\n    plt.subplots_adjust(wspace = .5, hspace = .5)\n    plt.title(val)",
      "execution_count": null,
      "outputs": []
    },
    {
      "metadata": {
        "_uuid": "aaad5d02b59b9bde99a02fcd88ed468225bec2aa"
      },
      "cell_type": "markdown",
      "source": "* Referance :  [Kernel by Nilan](https://www.kaggle.com/nilanml/telecom-customer-churn-voting-80-1-accuracy)"
    },
    {
      "metadata": {
        "trusted": true,
        "_uuid": "7f13e952adeff25d7c7fde5f4a70c42a717badad"
      },
      "cell_type": "code",
      "source": "",
      "execution_count": null,
      "outputs": []
    },
    {
      "metadata": {
        "trusted": true,
        "_uuid": "7f093b0e51498e63b22d141d96c44e4452bfa97f"
      },
      "cell_type": "code",
      "source": "",
      "execution_count": null,
      "outputs": []
    }
  ],
  "metadata": {
    "kernelspec": {
      "display_name": "Python 3",
      "language": "python",
      "name": "python3"
    },
    "language_info": {
      "name": "python",
      "version": "3.6.6",
      "mimetype": "text/x-python",
      "codemirror_mode": {
        "name": "ipython",
        "version": 3
      },
      "pygments_lexer": "ipython3",
      "nbconvert_exporter": "python",
      "file_extension": ".py"
    }
  },
  "nbformat": 4,
  "nbformat_minor": 1
}
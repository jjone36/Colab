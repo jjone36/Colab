{
  "nbformat": 4,
  "nbformat_minor": 0,
  "metadata": {
    "colab": {
      "name": "easiest_CNN.ipynb",
      "version": "0.3.2",
      "provenance": [],
      "collapsed_sections": [],
      "include_colab_link": true
    },
    "kernelspec": {
      "display_name": "Python 3",
      "language": "python",
      "name": "python3"
    }
  },
  "cells": [
    {
      "cell_type": "markdown",
      "metadata": {
        "id": "view-in-github",
        "colab_type": "text"
      },
      "source": [
        "<a href=\"https://colab.research.google.com/github/jjone36/Colab/blob/master/easiest_CNN.ipynb\" target=\"_parent\"><img src=\"https://colab.research.google.com/assets/colab-badge.svg\" alt=\"Open In Colab\"/></a>"
      ]
    },
    {
      "metadata": {
        "_uuid": "8a2ed4e521bc668e379bc5441f6fdc06c7fa4c22",
        "id": "aQrRxG5TD_aY",
        "colab_type": "text"
      },
      "cell_type": "markdown",
      "source": [
        "Reference from:\n",
        "- [Image Classifier - Cats🐱 vs Dogs🐶](https://towardsdatascience.com/image-classifier-cats-vs-dogs-with-convolutional-neural-networks-cnns-and-google-colabs-4e9af21ae7a8)\n",
        "- [Kaggle Kernels](https://www.kaggle.com/uysimty/keras-cnn-dog-or-cat-classification/notebook)"
      ]
    },
    {
      "metadata": {
        "_uuid": "80e3a310e7f1f8f048ddbdb0319ba7ecbfb017a7",
        "id": "adjvF1-gD_Xe",
        "colab_type": "text"
      },
      "cell_type": "markdown",
      "source": [
        "# Basic Tutorial of CNN"
      ]
    },
    {
      "metadata": {
        "_uuid": "8f2839f25d086af736a60e9eeb907d3b93b6e0e5",
        "_cell_guid": "b1076dfc-b9ad-4769-8c92-a6c4dae69d19",
        "trusted": true,
        "id": "4OwggLQMD_Xi",
        "colab_type": "code",
        "outputId": "e23c62c0-4338-4442-f2d5-7d48f7909fa0",
        "colab": {}
      },
      "cell_type": "code",
      "source": [
        "import numpy as np \n",
        "import pandas as pd\n",
        "import matplotlib.pyplot as plt\n",
        "import seaborn as sns\n",
        "import os"
      ],
      "execution_count": 0,
      "outputs": [
        {
          "output_type": "stream",
          "text": [
            "['train', 'sampleSubmission.csv', 'test1']\n"
          ],
          "name": "stdout"
        }
      ]
    },
    {
      "metadata": {
        "_cell_guid": "79c7e3d0-c299-4dcb-8224-4455121ee9b0",
        "collapsed": true,
        "_uuid": "d629ff2d2480ee46fbb7e2d37f6b5fab8052498a",
        "trusted": false,
        "id": "-oq8kFNeD_Xt",
        "colab_type": "text"
      },
      "cell_type": "markdown",
      "source": [
        "## 1. importing data"
      ]
    },
    {
      "metadata": {
        "trusted": true,
        "scrolled": true,
        "_uuid": "620aa0900b8e76cb51f913e8d66ad095305cc3bc",
        "id": "b_-UH8wgD_Xu",
        "colab_type": "code",
        "colab": {}
      },
      "cell_type": "code",
      "source": [
        "filenames = os.listdir('../input/train/train')"
      ],
      "execution_count": 0,
      "outputs": []
    },
    {
      "metadata": {
        "trusted": true,
        "_uuid": "3983e8dc325fa57926f8fcd7a2ab00f11c21ff41",
        "id": "LGOv92-BD_Xz",
        "colab_type": "code",
        "outputId": "6f4e800f-c9e3-41a1-dd75-cd5ed2df9f74",
        "colab": {}
      },
      "cell_type": "code",
      "source": [
        "categories = []\n",
        "for filename in filenames:\n",
        "    category = filename.split('.')[0]\n",
        "    if category == 'dog':\n",
        "        categories.append(1)\n",
        "    else:\n",
        "        categories.append(0)\n",
        "\n",
        "# print the categories\n",
        "print(categories[0:10])"
      ],
      "execution_count": 0,
      "outputs": [
        {
          "output_type": "stream",
          "text": [
            "[0, 1, 1, 1, 1, 1, 1, 0, 0, 0]\n"
          ],
          "name": "stdout"
        }
      ]
    },
    {
      "metadata": {
        "_uuid": "f8b60ef0485c469f1465c08a4f1bc12bdb63846e",
        "id": "IlJBk8lRD_X5",
        "colab_type": "text"
      },
      "cell_type": "markdown",
      "source": [
        "Since this is supervised learning, we need labeling the images. Categories 0 indicates cats and 1 indicates dogs. "
      ]
    },
    {
      "metadata": {
        "trusted": true,
        "_uuid": "76e31eda9811f328f01a740b57928d9506d4a8ac",
        "id": "rUiDW4eED_X7",
        "colab_type": "code",
        "outputId": "e023aca5-ab34-44af-cc14-6ef55b651cf3",
        "colab": {}
      },
      "cell_type": "code",
      "source": [
        "# transform into dataframe \n",
        "df = pd.DataFrame({\n",
        "    'filename' : filenames,\n",
        "    'category' : categories\n",
        "})\n",
        "df.head()"
      ],
      "execution_count": 0,
      "outputs": [
        {
          "output_type": "execute_result",
          "data": {
            "text/plain": [
              "        filename  category\n",
              "0  cat.11679.jpg         0\n",
              "1   dog.2811.jpg         1\n",
              "2   dog.2578.jpg         1\n",
              "3   dog.9238.jpg         1\n",
              "4   dog.7504.jpg         1"
            ],
            "text/html": [
              "<div>\n",
              "<style scoped>\n",
              "    .dataframe tbody tr th:only-of-type {\n",
              "        vertical-align: middle;\n",
              "    }\n",
              "\n",
              "    .dataframe tbody tr th {\n",
              "        vertical-align: top;\n",
              "    }\n",
              "\n",
              "    .dataframe thead th {\n",
              "        text-align: right;\n",
              "    }\n",
              "</style>\n",
              "<table border=\"1\" class=\"dataframe\">\n",
              "  <thead>\n",
              "    <tr style=\"text-align: right;\">\n",
              "      <th></th>\n",
              "      <th>filename</th>\n",
              "      <th>category</th>\n",
              "    </tr>\n",
              "  </thead>\n",
              "  <tbody>\n",
              "    <tr>\n",
              "      <th>0</th>\n",
              "      <td>cat.11679.jpg</td>\n",
              "      <td>0</td>\n",
              "    </tr>\n",
              "    <tr>\n",
              "      <th>1</th>\n",
              "      <td>dog.2811.jpg</td>\n",
              "      <td>1</td>\n",
              "    </tr>\n",
              "    <tr>\n",
              "      <th>2</th>\n",
              "      <td>dog.2578.jpg</td>\n",
              "      <td>1</td>\n",
              "    </tr>\n",
              "    <tr>\n",
              "      <th>3</th>\n",
              "      <td>dog.9238.jpg</td>\n",
              "      <td>1</td>\n",
              "    </tr>\n",
              "    <tr>\n",
              "      <th>4</th>\n",
              "      <td>dog.7504.jpg</td>\n",
              "      <td>1</td>\n",
              "    </tr>\n",
              "  </tbody>\n",
              "</table>\n",
              "</div>"
            ]
          },
          "metadata": {
            "tags": []
          },
          "execution_count": 4
        }
      ]
    },
    {
      "metadata": {
        "_uuid": "934ee51b3356acab2d9c135d7fb852ece60f0425",
        "id": "i1RHOsOND_YB",
        "colab_type": "text"
      },
      "cell_type": "markdown",
      "source": [
        "Let's make a validation set from the training set"
      ]
    },
    {
      "metadata": {
        "trusted": true,
        "_uuid": "e09ad5d3d988664c381aac9478ab480e86f81214",
        "id": "TmndyJncD_YC",
        "colab_type": "code",
        "outputId": "8c864ee4-2d57-48c3-f18a-10c16c34799b",
        "colab": {}
      },
      "cell_type": "code",
      "source": [
        "from sklearn.model_selection import train_test_split\n",
        "train_df, val_df = train_test_split(df, test_size = .2, random_state = 30)\n",
        "train_df = train_df.reset_index(drop = True)\n",
        "val_df = val_df.reset_index(drop = True)\n",
        "print(len(train_df), len(val_df))"
      ],
      "execution_count": 0,
      "outputs": [
        {
          "output_type": "stream",
          "text": [
            "20000 5000\n"
          ],
          "name": "stdout"
        }
      ]
    },
    {
      "metadata": {
        "trusted": true,
        "_uuid": "13d0c79b0763f143d856dbb446d9aa92e4c5448b",
        "id": "9nUMLHdED_YI",
        "colab_type": "code",
        "outputId": "f1b30529-0d56-482c-bff2-157ef549f066",
        "colab": {}
      },
      "cell_type": "code",
      "source": [
        "train_df['category'].value_counts().plot(kind = 'bar')"
      ],
      "execution_count": 0,
      "outputs": [
        {
          "output_type": "execute_result",
          "data": {
            "text/plain": [
              "<matplotlib.axes._subplots.AxesSubplot at 0x7f6d75fb8630>"
            ]
          },
          "metadata": {
            "tags": []
          },
          "execution_count": 6
        },
        {
          "output_type": "display_data",
          "data": {
            "text/plain": [
              "<Figure size 432x288 with 1 Axes>"
            ],
            "image/png": "[encoded data removed]"
          },
          "metadata": {
            "tags": []
          }
        }
      ]
    },
    {
      "metadata": {
        "trusted": true,
        "_uuid": "39fca7c945edc0f3460155b2fc55c054346061f7",
        "id": "MgDAb1iCD_YO",
        "colab_type": "code",
        "outputId": "9b4673c8-7f62-4b38-ce32-c2a3f9df774a",
        "colab": {}
      },
      "cell_type": "code",
      "source": [
        "val_df['category'].value_counts().plot(kind = 'bar')"
      ],
      "execution_count": 0,
      "outputs": [
        {
          "output_type": "execute_result",
          "data": {
            "text/plain": [
              "<matplotlib.axes._subplots.AxesSubplot at 0x7f6d756900b8>"
            ]
          },
          "metadata": {
            "tags": []
          },
          "execution_count": 7
        },
        {
          "output_type": "display_data",
          "data": {
            "text/plain": [
              "<Figure size 432x288 with 1 Axes>"
            ],
            "image/png": "[encoded data removed]"
          },
          "metadata": {
            "tags": []
          }
        }
      ]
    },
    {
      "metadata": {
        "_uuid": "c77d4ae389e77bfb86c80b0a9be3adf9e46fa5aa",
        "id": "ZpMkuEpcD_YU",
        "colab_type": "text"
      },
      "cell_type": "markdown",
      "source": [
        "## 2. Simple Modeling"
      ]
    },
    {
      "metadata": {
        "trusted": true,
        "_uuid": "efd25fad249e6072da6debf07e58672d12137321",
        "id": "JOZKiB3cD_YW",
        "colab_type": "code",
        "outputId": "7d755fb7-6cf7-4a66-962e-918783422970",
        "colab": {}
      },
      "cell_type": "code",
      "source": [
        "from keras.models import Sequential\n",
        "from keras.layers import Conv2D, MaxPool2D, Flatten, Dense, BatchNormalization "
      ],
      "execution_count": 0,
      "outputs": [
        {
          "output_type": "stream",
          "text": [
            "Using TensorFlow backend.\n"
          ],
          "name": "stderr"
        }
      ]
    },
    {
      "metadata": {
        "trusted": true,
        "_uuid": "3b77a9a269ca47cad07cfa0bec545d72b7648639",
        "id": "PkmZaHowD_Ye",
        "colab_type": "code",
        "colab": {}
      },
      "cell_type": "code",
      "source": [
        "im_width = 128\n",
        "im_height = 128\n",
        "im_size = (im_width, im_height)"
      ],
      "execution_count": 0,
      "outputs": []
    },
    {
      "metadata": {
        "trusted": true,
        "_uuid": "921cd8fb762a0b6b718d065c48e2840201456b84",
        "id": "matzV-BED_Yi",
        "colab_type": "code",
        "colab": {}
      },
      "cell_type": "code",
      "source": [
        "# model initilaize\n",
        "model = Sequential()"
      ],
      "execution_count": 0,
      "outputs": []
    },
    {
      "metadata": {
        "trusted": true,
        "_uuid": "79498f61d647aa347b497175f4131d41bc06be0e",
        "id": "RNlep0j6D_Ym",
        "colab_type": "code",
        "colab": {}
      },
      "cell_type": "code",
      "source": [
        "# ConvNet_1\n",
        "model.add(Conv2D(32, (3, 3), input_shape = (im_width, im_height, 3), \n",
        "                 activation = 'relu'))\n",
        "model.add(BatchNormalization())\n",
        "model.add(MaxPool2D(2))"
      ],
      "execution_count": 0,
      "outputs": []
    },
    {
      "metadata": {
        "trusted": true,
        "_uuid": "b013e2c5988683a570ada6657228fd6d34ca21a8",
        "id": "XdJMlb4xD_Yq",
        "colab_type": "code",
        "colab": {}
      },
      "cell_type": "code",
      "source": [
        "# ConvNet_2\n",
        "model.add(Conv2D(32, kernel_size= 3, activation = 'relu'))\n",
        "model.add(BatchNormalization())\n",
        "model.add(MaxPool2D(2))"
      ],
      "execution_count": 0,
      "outputs": []
    },
    {
      "metadata": {
        "trusted": true,
        "_uuid": "7db2a0b82a913a5a557f6998b8192fb16b2fbe78",
        "id": "T9qpvzr9D_Yw",
        "colab_type": "code",
        "colab": {}
      },
      "cell_type": "code",
      "source": [
        "# Flattening \n",
        "model.add(Flatten())"
      ],
      "execution_count": 0,
      "outputs": []
    },
    {
      "metadata": {
        "trusted": true,
        "_uuid": "23ec1b865701f70d9d618bec2ce4b2b024076851",
        "id": "n3BHi95XD_Y1",
        "colab_type": "code",
        "outputId": "8e92b166-4420-4f40-c966-a269823bbbdf",
        "colab": {}
      },
      "cell_type": "code",
      "source": [
        "# Full-connected layers\n",
        "model.add(Dense(output_dim = 128, activation = 'relu'))\n",
        "model.add(Dense(output_dim = 1, activation = 'sigmoid'))"
      ],
      "execution_count": 0,
      "outputs": [
        {
          "output_type": "stream",
          "text": [
            "/opt/conda/lib/python3.6/site-packages/ipykernel_launcher.py:2: UserWarning: Update your `Dense` call to the Keras 2 API: `Dense(activation=\"relu\", units=128)`\n",
            "  \n",
            "/opt/conda/lib/python3.6/site-packages/ipykernel_launcher.py:3: UserWarning: Update your `Dense` call to the Keras 2 API: `Dense(activation=\"sigmoid\", units=1)`\n",
            "  This is separate from the ipykernel package so we can avoid doing imports until\n"
          ],
          "name": "stderr"
        }
      ]
    },
    {
      "metadata": {
        "trusted": true,
        "_uuid": "e7f595d900ef7b219ddab33373eb0f1a18666556",
        "id": "erkeK1cxD_Y9",
        "colab_type": "code",
        "colab": {}
      },
      "cell_type": "code",
      "source": [
        "# Optimization\n",
        "model.compile(optimizer = 'adam', \n",
        "              loss = 'binary_crossentropy', metrics = ['accuracy'])"
      ],
      "execution_count": 0,
      "outputs": []
    },
    {
      "metadata": {
        "trusted": true,
        "_uuid": "dd14f70a488d73fb5e09267cbe06dd40c445a9be",
        "id": "xr_XvWiDD_ZG",
        "colab_type": "code",
        "outputId": "6d1801c2-b846-4b4a-a850-5cd7d649ef78",
        "colab": {}
      },
      "cell_type": "code",
      "source": [
        "# Summary \n",
        "model.summary()"
      ],
      "execution_count": 0,
      "outputs": [
        {
          "output_type": "stream",
          "text": [
            "_________________________________________________________________\n",
            "Layer (type)                 Output Shape              Param #   \n",
            "=================================================================\n",
            "conv2d_1 (Conv2D)            (None, 126, 126, 32)      896       \n",
            "_________________________________________________________________\n",
            "batch_normalization_1 (Batch (None, 126, 126, 32)      128       \n",
            "_________________________________________________________________\n",
            "max_pooling2d_1 (MaxPooling2 (None, 63, 63, 32)        0         \n",
            "_________________________________________________________________\n",
            "conv2d_2 (Conv2D)            (None, 61, 61, 32)        9248      \n",
            "_________________________________________________________________\n",
            "batch_normalization_2 (Batch (None, 61, 61, 32)        128       \n",
            "_________________________________________________________________\n",
            "max_pooling2d_2 (MaxPooling2 (None, 30, 30, 32)        0         \n",
            "_________________________________________________________________\n",
            "flatten_1 (Flatten)          (None, 28800)             0         \n",
            "_________________________________________________________________\n",
            "dense_1 (Dense)              (None, 128)               3686528   \n",
            "_________________________________________________________________\n",
            "dense_2 (Dense)              (None, 1)                 129       \n",
            "=================================================================\n",
            "Total params: 3,697,057\n",
            "Trainable params: 3,696,929\n",
            "Non-trainable params: 128\n",
            "_________________________________________________________________\n"
          ],
          "name": "stdout"
        }
      ]
    },
    {
      "metadata": {
        "_uuid": "d08d662f4456862fc091c42c176462095046a324",
        "id": "xJMYMhHRD_ZT",
        "colab_type": "text"
      },
      "cell_type": "markdown",
      "source": [
        "## 3. Image Agumentation"
      ]
    },
    {
      "metadata": {
        "trusted": true,
        "_uuid": "5d904dd091fa2f97c2c087bb41300cde99023e36",
        "id": "OkeS5dkoD_ZU",
        "colab_type": "code",
        "colab": {}
      },
      "cell_type": "code",
      "source": [
        "batch_size = 30"
      ],
      "execution_count": 0,
      "outputs": []
    },
    {
      "metadata": {
        "trusted": true,
        "_uuid": "77484e69fdbb1fdaece8c957888cf8d645c73e70",
        "id": "MdqRfBILD_ZY",
        "colab_type": "code",
        "colab": {}
      },
      "cell_type": "code",
      "source": [
        "from keras.preprocessing.image import ImageDataGenerator"
      ],
      "execution_count": 0,
      "outputs": []
    },
    {
      "metadata": {
        "_uuid": "08cc5204162fd647b3ec3f45a99f4f3842eb072f",
        "id": "BMsy4cwxD_Zc",
        "colab_type": "text"
      },
      "cell_type": "markdown",
      "source": [
        "Data Augmentation not to have overfitting"
      ]
    },
    {
      "metadata": {
        "trusted": true,
        "_uuid": "8415c2d9b931bcb51a01e0b65e8181e0496f6503",
        "id": "_KtZQcRGD_Ze",
        "colab_type": "code",
        "outputId": "7861ab5f-5d10-442e-cf76-99595ffdc272",
        "colab": {}
      },
      "cell_type": "code",
      "source": [
        "# Augmentation with trainset\n",
        "train_gen = ImageDataGenerator(\n",
        "    rescale=1./255,\n",
        "    shear_range=0.1,\n",
        "    zoom_range=0.2,\n",
        "    horizontal_flip=True,\n",
        ")\n",
        "\n",
        "train_generator = train_gen.flow_from_dataframe(\n",
        "    train_df, \n",
        "    \"../input/train/train/\", \n",
        "    x_col='filename',\n",
        "    y_col='category',\n",
        "    target_size= im_size,\n",
        "    class_mode='binary',\n",
        "    batch_size= batch_size\n",
        ")"
      ],
      "execution_count": 0,
      "outputs": [
        {
          "output_type": "stream",
          "text": [
            "Found 20000 images belonging to 2 classes.\n"
          ],
          "name": "stdout"
        }
      ]
    },
    {
      "metadata": {
        "trusted": true,
        "_uuid": "32d3c70e66cf6360c6a1c7710f8e0c012a108f43",
        "id": "wGrqfuqUD_Zm",
        "colab_type": "code",
        "outputId": "f43e56e4-faea-4a48-a36c-92038202ec1e",
        "colab": {}
      },
      "cell_type": "code",
      "source": [
        "# Augmentation with valid set\n",
        "val_gen = ImageDataGenerator(rescale = 1./255)\n",
        "\n",
        "val_generator = val_gen.flow_from_dataframe(\n",
        "    val_df, \n",
        "    \"../input/train/train/\", \n",
        "    x_col='filename',\n",
        "    y_col='category',\n",
        "    target_size= im_size,\n",
        "    class_mode='binary',\n",
        "    batch_size= batch_size\n",
        ")"
      ],
      "execution_count": 0,
      "outputs": [
        {
          "output_type": "stream",
          "text": [
            "Found 5000 images belonging to 2 classes.\n"
          ],
          "name": "stdout"
        }
      ]
    },
    {
      "metadata": {
        "_uuid": "7622474f3d3cc5d46354a82970929edecc220770",
        "id": "e3lDJM8LD_Zp",
        "colab_type": "text"
      },
      "cell_type": "markdown",
      "source": [
        "## 4. Callbacks"
      ]
    },
    {
      "metadata": {
        "trusted": true,
        "_uuid": "25dd1dadfd1f9ea094630c39f3cc87bed491d9c0",
        "id": "TiDT1AVnD_Zq",
        "colab_type": "code",
        "colab": {}
      },
      "cell_type": "code",
      "source": [
        "# Early stopeer\n",
        "from keras.callbacks import EarlyStopping\n",
        "early_stopper = EarlyStopping(patience = 10)"
      ],
      "execution_count": 0,
      "outputs": []
    },
    {
      "metadata": {
        "trusted": true,
        "_uuid": "38e1f4ffbad6b578f838d9673420b425c4540f83",
        "id": "62ugJ_CoD_Zv",
        "colab_type": "code",
        "colab": {}
      },
      "cell_type": "code",
      "source": [
        "# Learning rate reduction\n",
        "from keras.callbacks import ReduceLROnPlateau\n",
        "learning_rate_reduce = ReduceLROnPlateau(monitor='val_acc', \n",
        "                                            patience=2, \n",
        "                                            verbose=1, \n",
        "                                            factor=0.5, \n",
        "                                            min_lr=0.00001)"
      ],
      "execution_count": 0,
      "outputs": []
    },
    {
      "metadata": {
        "trusted": true,
        "_uuid": "5bcfcd74b09c67fc9e66bf45b1fa1b4442a1fe9f",
        "id": "oXO5kT9fD_Zx",
        "colab_type": "code",
        "colab": {}
      },
      "cell_type": "code",
      "source": [
        "callbacks = [early_stopper, learning_rate_reduce]"
      ],
      "execution_count": 0,
      "outputs": []
    },
    {
      "metadata": {
        "_uuid": "e1515148506f759d6fbd5fa7ba782f0dd3ab3a03",
        "id": "NvrhO7OTD_Z1",
        "colab_type": "text"
      },
      "cell_type": "markdown",
      "source": [
        "## 5. Fitting"
      ]
    },
    {
      "metadata": {
        "trusted": true,
        "_uuid": "d033d8b0883c2d912f5d3b561b14dd8b02bc80f3",
        "id": "oAj-IPi9D_Z2",
        "colab_type": "code",
        "outputId": "6cb5bca7-30f5-4f7c-b2df-058bd69f748d",
        "colab": {}
      },
      "cell_type": "code",
      "source": [
        "# fitting\n",
        "history = model.fit_generator(train_generator,\n",
        "                    epochs = 50,\n",
        "                    validation_data = val_generator,\n",
        "                    validation_steps = val_df.shape[0] // batch_size, \n",
        "                    steps_per_epoch= train_df.shape[0] // batch_size,\n",
        "                    callbacks = callbacks)"
      ],
      "execution_count": 0,
      "outputs": [
        {
          "output_type": "stream",
          "text": [
            "Epoch 1/50\n",
            "666/666 [==============================] - 212s 319ms/step - loss: 0.6544 - acc: 0.6734 - val_loss: 1.4487 - val_acc: 0.3135\n",
            "Epoch 2/50\n",
            "666/666 [==============================] - 165s 248ms/step - loss: 0.4990 - acc: 0.7536 - val_loss: 1.8163 - val_acc: 0.2491\n",
            "Epoch 3/50\n",
            "666/666 [==============================] - 165s 248ms/step - loss: 0.4527 - acc: 0.7869 - val_loss: 2.0399 - val_acc: 0.2352\n",
            "\n",
            "Epoch 00003: ReduceLROnPlateau reducing learning rate to 0.0005000000237487257.\n",
            "Epoch 4/50\n",
            "666/666 [==============================] - 165s 247ms/step - loss: 0.3997 - acc: 0.8180 - val_loss: 2.1828 - val_acc: 0.2014\n",
            "Epoch 5/50\n",
            "666/666 [==============================] - 163s 245ms/step - loss: 0.3799 - acc: 0.8288 - val_loss: 2.4622 - val_acc: 0.2229\n",
            "\n",
            "Epoch 00005: ReduceLROnPlateau reducing learning rate to 0.0002500000118743628.\n",
            "Epoch 6/50\n",
            "666/666 [==============================] - 164s 247ms/step - loss: 0.3492 - acc: 0.8437 - val_loss: 2.3275 - val_acc: 0.2044\n",
            "Epoch 7/50\n",
            "666/666 [==============================] - 164s 246ms/step - loss: 0.3386 - acc: 0.8510 - val_loss: 2.4172 - val_acc: 0.1785\n",
            "\n",
            "Epoch 00007: ReduceLROnPlateau reducing learning rate to 0.0001250000059371814.\n",
            "Epoch 8/50\n",
            "666/666 [==============================] - 164s 247ms/step - loss: 0.3208 - acc: 0.8576 - val_loss: 2.6972 - val_acc: 0.1668\n",
            "Epoch 9/50\n",
            "666/666 [==============================] - 163s 244ms/step - loss: 0.3143 - acc: 0.8657 - val_loss: 2.6223 - val_acc: 0.1672\n",
            "\n",
            "Epoch 00009: ReduceLROnPlateau reducing learning rate to 6.25000029685907e-05.\n",
            "Epoch 10/50\n",
            "666/666 [==============================] - 163s 245ms/step - loss: 0.3039 - acc: 0.8718 - val_loss: 2.7319 - val_acc: 0.1620\n",
            "Epoch 11/50\n",
            "666/666 [==============================] - 163s 245ms/step - loss: 0.3004 - acc: 0.8707 - val_loss: 2.9975 - val_acc: 0.1638\n",
            "\n",
            "Epoch 00011: ReduceLROnPlateau reducing learning rate to 3.125000148429535e-05.\n"
          ],
          "name": "stdout"
        },
        {
          "output_type": "execute_result",
          "data": {
            "text/plain": [
              "<keras.callbacks.History at 0x7f6d2837b3c8>"
            ]
          },
          "metadata": {
            "tags": []
          },
          "execution_count": 41
        }
      ]
    },
    {
      "metadata": {
        "trusted": true,
        "_uuid": "9b2f9eddc423ba3ba5774e9a9d11bd662e9ef7c0",
        "id": "GCcpv7vlD_Z_",
        "colab_type": "text"
      },
      "cell_type": "markdown",
      "source": [
        "## 6. Model saving"
      ]
    },
    {
      "metadata": {
        "trusted": true,
        "_uuid": "c434e5da64eca9ba863d045faec1f068f3fd17dd",
        "id": "ZBAcWPKkD_aB",
        "colab_type": "code",
        "colab": {}
      },
      "cell_type": "code",
      "source": [
        "model.save_weights('model.h5')"
      ],
      "execution_count": 0,
      "outputs": []
    },
    {
      "metadata": {
        "trusted": true,
        "_uuid": "253d104444a3aafb62d69f6d6bbac0359f082abf",
        "id": "_VpFmQNfD_aD",
        "colab_type": "code",
        "outputId": "62a63b6d-9bde-4c3e-8456-6449f0e9fc69",
        "colab": {}
      },
      "cell_type": "code",
      "source": [
        "fig, (ax1, ax2) = plt.subplots(2, 1, figsize=(12, 12))\n",
        "ax1.plot(history.history['loss'], color='b', label=\"Training loss\")\n",
        "ax1.plot(history.history['val_loss'], color='r', label=\"validation loss\")\n",
        "ax1.set_xticks(np.arange(1, epochs, 1))\n",
        "ax1.set_yticks(np.arange(0, 1, 0.1))\n",
        "\n",
        "ax2.plot(history.history['acc'], color='b', label=\"Training accuracy\")\n",
        "ax2.plot(history.history['val_acc'], color='r',label=\"Validation accuracy\")\n",
        "ax2.set_xticks(np.arange(1, epochs, 1))\n",
        "\n",
        "legend = plt.legend(loc='best', shadow=True)\n",
        "plt.tight_layout()\n",
        "plt.show()"
      ],
      "execution_count": 0,
      "outputs": [
        {
          "output_type": "error",
          "ename": "NameError",
          "evalue": "name 'history' is not defined",
          "traceback": [
            "\u001b[0;31m---------------------------------------------------------------------------\u001b[0m",
            "\u001b[0;31mNameError\u001b[0m                                 Traceback (most recent call last)",
            "\u001b[0;32m<ipython-input-43-25a56c56b90d>\u001b[0m in \u001b[0;36m<module>\u001b[0;34m()\u001b[0m\n\u001b[1;32m      1\u001b[0m \u001b[0mfig\u001b[0m\u001b[0;34m,\u001b[0m \u001b[0;34m(\u001b[0m\u001b[0max1\u001b[0m\u001b[0;34m,\u001b[0m \u001b[0max2\u001b[0m\u001b[0;34m)\u001b[0m \u001b[0;34m=\u001b[0m \u001b[0mplt\u001b[0m\u001b[0;34m.\u001b[0m\u001b[0msubplots\u001b[0m\u001b[0;34m(\u001b[0m\u001b[0;36m2\u001b[0m\u001b[0;34m,\u001b[0m \u001b[0;36m1\u001b[0m\u001b[0;34m,\u001b[0m \u001b[0mfigsize\u001b[0m\u001b[0;34m=\u001b[0m\u001b[0;34m(\u001b[0m\u001b[0;36m12\u001b[0m\u001b[0;34m,\u001b[0m \u001b[0;36m12\u001b[0m\u001b[0;34m)\u001b[0m\u001b[0;34m)\u001b[0m\u001b[0;34m\u001b[0m\u001b[0m\n\u001b[0;32m----> 2\u001b[0;31m \u001b[0max1\u001b[0m\u001b[0;34m.\u001b[0m\u001b[0mplot\u001b[0m\u001b[0;34m(\u001b[0m\u001b[0mhistory\u001b[0m\u001b[0;34m.\u001b[0m\u001b[0mhistory\u001b[0m\u001b[0;34m[\u001b[0m\u001b[0;34m'loss'\u001b[0m\u001b[0;34m]\u001b[0m\u001b[0;34m,\u001b[0m \u001b[0mcolor\u001b[0m\u001b[0;34m=\u001b[0m\u001b[0;34m'b'\u001b[0m\u001b[0;34m,\u001b[0m \u001b[0mlabel\u001b[0m\u001b[0;34m=\u001b[0m\u001b[0;34m\"Training loss\"\u001b[0m\u001b[0;34m)\u001b[0m\u001b[0;34m\u001b[0m\u001b[0m\n\u001b[0m\u001b[1;32m      3\u001b[0m \u001b[0max1\u001b[0m\u001b[0;34m.\u001b[0m\u001b[0mplot\u001b[0m\u001b[0;34m(\u001b[0m\u001b[0mhistory\u001b[0m\u001b[0;34m.\u001b[0m\u001b[0mhistory\u001b[0m\u001b[0;34m[\u001b[0m\u001b[0;34m'val_loss'\u001b[0m\u001b[0;34m]\u001b[0m\u001b[0;34m,\u001b[0m \u001b[0mcolor\u001b[0m\u001b[0;34m=\u001b[0m\u001b[0;34m'r'\u001b[0m\u001b[0;34m,\u001b[0m \u001b[0mlabel\u001b[0m\u001b[0;34m=\u001b[0m\u001b[0;34m\"validation loss\"\u001b[0m\u001b[0;34m)\u001b[0m\u001b[0;34m\u001b[0m\u001b[0m\n\u001b[1;32m      4\u001b[0m \u001b[0max1\u001b[0m\u001b[0;34m.\u001b[0m\u001b[0mset_xticks\u001b[0m\u001b[0;34m(\u001b[0m\u001b[0mnp\u001b[0m\u001b[0;34m.\u001b[0m\u001b[0marange\u001b[0m\u001b[0;34m(\u001b[0m\u001b[0;36m1\u001b[0m\u001b[0;34m,\u001b[0m \u001b[0mepochs\u001b[0m\u001b[0;34m,\u001b[0m \u001b[0;36m1\u001b[0m\u001b[0;34m)\u001b[0m\u001b[0;34m)\u001b[0m\u001b[0;34m\u001b[0m\u001b[0m\n\u001b[1;32m      5\u001b[0m \u001b[0max1\u001b[0m\u001b[0;34m.\u001b[0m\u001b[0mset_yticks\u001b[0m\u001b[0;34m(\u001b[0m\u001b[0mnp\u001b[0m\u001b[0;34m.\u001b[0m\u001b[0marange\u001b[0m\u001b[0;34m(\u001b[0m\u001b[0;36m0\u001b[0m\u001b[0;34m,\u001b[0m \u001b[0;36m1\u001b[0m\u001b[0;34m,\u001b[0m \u001b[0;36m0.1\u001b[0m\u001b[0;34m)\u001b[0m\u001b[0;34m)\u001b[0m\u001b[0;34m\u001b[0m\u001b[0m\n",
            "\u001b[0;31mNameError\u001b[0m: name 'history' is not defined"
          ]
        },
        {
          "output_type": "display_data",
          "data": {
            "text/plain": [
              "<Figure size 864x864 with 2 Axes>"
            ],
            "image/png": "[encoded data removed]"
          },
          "metadata": {
            "tags": []
          }
        }
      ]
    },
    {
      "metadata": {
        "_uuid": "26a6c25d0070cd688a8fb82acdeae8561f7bcfc0",
        "id": "N825VTxjD_aK",
        "colab_type": "text"
      },
      "cell_type": "markdown",
      "source": [
        "## 7. Prediction"
      ]
    },
    {
      "metadata": {
        "trusted": true,
        "_uuid": "30afc58a53f7d111316d4015359558bdf9bb6d66",
        "id": "OCHJ67mND_aM",
        "colab_type": "code",
        "colab": {}
      },
      "cell_type": "code",
      "source": [
        "# loading test set\n",
        "test_filenames = os.listdir(\"../input/test1/test1\")\n",
        "test_df = pd.DataFrame({\n",
        "    'filename': test_filenames\n",
        "})"
      ],
      "execution_count": 0,
      "outputs": []
    },
    {
      "metadata": {
        "trusted": true,
        "_uuid": "51134965a5bf290ce9bb7b340ffaa822e4cb327f",
        "id": "EV31-EIiD_aO",
        "colab_type": "code",
        "colab": {}
      },
      "cell_type": "code",
      "source": [
        "# Augmentation with test set\n",
        "test_gen = ImageDataGenerator(rescale=1./255)\n",
        "\n",
        "test_generator = test_gen.flow_from_dataframe(\n",
        "    test_df, \n",
        "    \"../input/test1/test1/\", \n",
        "    x_col='filename',\n",
        "    y_col=None,\n",
        "    class_mode=None,\n",
        "    target_size=IMAGE_SIZE,\n",
        "    batch_size=batch_size,\n",
        "    shuffle=False\n",
        ")"
      ],
      "execution_count": 0,
      "outputs": []
    },
    {
      "metadata": {
        "trusted": true,
        "_uuid": "435b968283a4cc214c4b2d9f7d876a8b93b1d076",
        "id": "2Nj4xeJbD_aR",
        "colab_type": "code",
        "colab": {}
      },
      "cell_type": "code",
      "source": [
        "# Prediction\n",
        "predict = model.predict_generator(test_generator, \n",
        "                                  steps=np.ceil(nb_samples/batch_size))\n",
        "\n",
        "test_df['probability'] = predict\n",
        "test_df['category'] = np.where(test_df['probability'] > .5, 1,0)"
      ],
      "execution_count": 0,
      "outputs": []
    },
    {
      "metadata": {
        "trusted": true,
        "_uuid": "47fd9f5c5627dec2d444c93eb927e7f69236a36a",
        "id": "3J-VqOyHD_aV",
        "colab_type": "code",
        "colab": {}
      },
      "cell_type": "code",
      "source": [
        "# Distribution of prediction\n",
        "test_df['category'].value_counts().plot(kind = 'bar')"
      ],
      "execution_count": 0,
      "outputs": []
    }
  ]
}
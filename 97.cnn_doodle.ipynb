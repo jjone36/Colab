{
  "cells": [
    {
      "metadata": {
        "trusted": true,
        "_uuid": "42c3f1a55f18309a36ab7d704958e06b22bdb331"
      },
      "cell_type": "code",
      "source": "Reference : \n     * 'https://www.kaggle.com/gaborfodor/black-white-cnn-animals'\n        \nClass tutorial : \n    * 'https://en.wikibooks.org/wiki/A_Beginner%27s_Python_Tutorial/Classes'\n    * 'https://wikidocs.net/28'",
      "execution_count": null,
      "outputs": []
    },
    {
      "metadata": {
        "trusted": true,
        "_uuid": "58ea23f2e02b5aba8c64855bde16c5684c3cc4f2"
      },
      "cell_type": "code",
      "source": "import os\nimport pandas as pd\nimport numpy as np\nimport matplotlib.pyplot as plt\nimport seaborn as sns",
      "execution_count": null,
      "outputs": []
    },
    {
      "metadata": {
        "trusted": true,
        "_uuid": "071979b517f5aceead99df2e5e35ae6903952d82"
      },
      "cell_type": "code",
      "source": "import ast",
      "execution_count": null,
      "outputs": []
    },
    {
      "metadata": {
        "_uuid": "8f2839f25d086af736a60e9eeb907d3b93b6e0e5",
        "_cell_guid": "b1076dfc-b9ad-4769-8c92-a6c4dae69d19",
        "trusted": true
      },
      "cell_type": "markdown",
      "source": "## Importing data"
    },
    {
      "metadata": {
        "_uuid": "1b7eb75486a8f4d95aaba4c06c639ab323ddeba8"
      },
      "cell_type": "markdown",
      "source": "First check what we have in train_simplified.zip file"
    },
    {
      "metadata": {
        "_cell_guid": "79c7e3d0-c299-4dcb-8224-4455121ee9b0",
        "_uuid": "d629ff2d2480ee46fbb7e2d37f6b5fab8052498a",
        "trusted": true
      },
      "cell_type": "code",
      "source": "files = os.listdir('../input/train_simplified/')\nfiles",
      "execution_count": null,
      "outputs": []
    },
    {
      "metadata": {
        "_uuid": "5b858d691866f1cbfa3d6e81c44bc3e07c940d8f"
      },
      "cell_type": "markdown",
      "source": "Will use only the penguin drawings"
    },
    {
      "metadata": {
        "trusted": true,
        "_uuid": "608666ef960c657aab95a6459a922dc97bd82dee"
      },
      "cell_type": "code",
      "source": "pg = pd.read_csv('../input/train_simplified/penguin.csv')\npg.head()",
      "execution_count": null,
      "outputs": []
    },
    {
      "metadata": {
        "_uuid": "02cb706836840d4b7f8b6f193c26612aeeffaa86"
      },
      "cell_type": "markdown",
      "source": "## Drawing Penguins"
    },
    {
      "metadata": {
        "trusted": true,
        "_uuid": "c29e8a26c22e2734d826d7e7ef4c986cb36762f9"
      },
      "cell_type": "code",
      "source": "# Take only recognizable drawings \ndf = pg[pg.recognized]",
      "execution_count": null,
      "outputs": []
    },
    {
      "metadata": {
        "trusted": true,
        "_uuid": "11fb9899e01f4966ead7742b632fa15677669332"
      },
      "cell_type": "code",
      "source": "# timestamp\ndf['timestamp'] = pd.to_datetime(df.timestamp)\ndf.head()",
      "execution_count": null,
      "outputs": []
    },
    {
      "metadata": {
        "trusted": true,
        "_uuid": "9539763344127b084f94388ff2516fd25a5eba4b"
      },
      "cell_type": "code",
      "source": "df = df.sort_values('timestamp', ascending = False)[-100:]\ndf['drawing'] = df.drawing.apply(ast.literal_eval)\ndf.head()",
      "execution_count": null,
      "outputs": []
    },
    {
      "metadata": {
        "_uuid": "b5c08a2b2c3d37d982b8cff859db4035d8a8a618"
      },
      "cell_type": "markdown",
      "source": "pretrial for plotting the drawings"
    },
    {
      "metadata": {
        "trusted": true,
        "_uuid": "aba117cebbc7367125a08a7fcd5a3eb533e5bc1f"
      },
      "cell_type": "code",
      "source": "n = 3\nfor index, col in enumerate(df[:20].drawing):\n    print('index= ', index, index//n, index%n) \n    print('col= ', col)",
      "execution_count": null,
      "outputs": []
    },
    {
      "metadata": {
        "trusted": true,
        "_uuid": "af22310ca3cd1a781de17f02c6a1eae689a849d3"
      },
      "cell_type": "code",
      "source": "for index, col in enumerate(df[:20].drawing):\n    for a, b in col:\n        print(a, -np.array(b))        ",
      "execution_count": null,
      "outputs": []
    },
    {
      "metadata": {
        "trusted": true,
        "_uuid": "d5a5810802c5a446d83e7b484088bc262a08f59c"
      },
      "cell_type": "code",
      "source": "# show image\nn =  10   \nfig, axs = plt.subplots(nrows = n, ncols = n, figsize = (10, 8))\nfor index, col in enumerate(df.drawing):\n    ax = axs[index//n, index%n]\n    for x, y in col:\n        ax.plot(x,-np.array(y), lw = 3)\n    ax.axis('off')\nplt.show()",
      "execution_count": null,
      "outputs": []
    },
    {
      "metadata": {
        "_uuid": "615a4d6824fb8694314fa4a68584137fab65af34"
      },
      "cell_type": "markdown",
      "source": "## Data preprocessing"
    },
    {
      "metadata": {
        "trusted": true,
        "_uuid": "c0b89f0532b1942340ceda2ae712c07e89fc1f0e"
      },
      "cell_type": "code",
      "source": "DP_DIR = '../input/shuffle-animal-csvs/'\nINPUT_DIR = '../input/quickdraw-doodle-recognition/'\n# INPUT_DIR = '../input/'\nBW_DIR = '../input/black-white-cnn-animals/'\nGS_DIR = '../input/greyscale-mobilenet-animals/'\nBASE_SIZE = 256\nNCSVS = 100",
      "execution_count": null,
      "outputs": []
    },
    {
      "metadata": {
        "trusted": true,
        "_uuid": "15aa74f9b5e8744629c756cb8928dae000e0a6ee"
      },
      "cell_type": "code",
      "source": "def f2cat(filename: str) -> str:\n    return filename.split('.')[0]\n\nclass Simplified():\n    def __init__(self, input_path='./input'):\n        self.input_path = input_path\n\n    def list_all_categories(self):\n        files = os.listdir(os.path.join(self.input_path, 'train_simplified'))\n        return [f2cat(f) for f in files]\n\n    def read_training_csv(self, category, nrows=None, usecols=None, drawing_transform=False):\n        df = pd.read_csv(os.path.join(self.input_path, 'train_simplified', category + '.csv'),\n                         nrows=nrows, parse_dates=['timestamp'], usecols=usecols)\n        if drawing_transform:\n            df['drawing'] = df['drawing'].apply(ast.literal_eval)\n        return df",
      "execution_count": null,
      "outputs": []
    },
    {
      "metadata": {
        "trusted": true,
        "_uuid": "ea5e155a67a29eb00170a73b0198c5ee28a81018"
      },
      "cell_type": "code",
      "source": "s = Simplified(INPUT_DIR)",
      "execution_count": null,
      "outputs": []
    },
    {
      "metadata": {
        "trusted": true,
        "_uuid": "9964bc264cbf7a890eac25fc0dc06ab8cfde7ad9"
      },
      "cell_type": "code",
      "source": "animals = ['ant', 'bat', 'bear', 'bee', 'bird', 'butterfly', 'camel', 'cat', 'cow',\n           'crab', 'crocodile', 'dog', 'dolphin', 'dragon', 'duck', 'elephant', 'fish',\n           'flamingo', 'frog', 'giraffe', 'hedgehog', 'horse', 'kangaroo', 'lion',\n           'lobster', 'monkey', 'mosquito', 'mouse', 'octopus', 'owl', 'panda',\n           'parrot', 'penguin', 'pig', 'rabbit', 'raccoon', 'rhinoceros', 'scorpion',\n           'sea turtle', 'shark', 'sheep', 'snail', 'snake', 'spider', 'squirrel',\n           'swan', 'teddy-bear', 'tiger', 'whale', 'zebra']\nNCATS = len(animals)",
      "execution_count": null,
      "outputs": []
    },
    {
      "metadata": {
        "_uuid": "befccb7ab467354e87c88e5641b6ade589977965"
      },
      "cell_type": "markdown",
      "source": "## Image Augmentation"
    },
    {
      "metadata": {
        "trusted": true,
        "_uuid": "b24d786edacfb7df0cab50542438b1e4602e8532"
      },
      "cell_type": "code",
      "source": "",
      "execution_count": null,
      "outputs": []
    },
    {
      "metadata": {
        "trusted": true,
        "_uuid": "bbd38a3b809d35cbddfe21364286bf4140b3f91a"
      },
      "cell_type": "code",
      "source": "",
      "execution_count": null,
      "outputs": []
    },
    {
      "metadata": {
        "trusted": true,
        "_uuid": "252f22949b5f21fae51d03c3d9bfa35d6ecfe809"
      },
      "cell_type": "code",
      "source": "",
      "execution_count": null,
      "outputs": []
    },
    {
      "metadata": {
        "trusted": true,
        "_uuid": "340b1afaca6d88d3066bdb9f00d6c7c4276a1cbe"
      },
      "cell_type": "code",
      "source": "",
      "execution_count": null,
      "outputs": []
    },
    {
      "metadata": {
        "trusted": true,
        "_uuid": "4f2a449d519ddf3ae361ecb3912b12f79ee5af0b"
      },
      "cell_type": "code",
      "source": "",
      "execution_count": null,
      "outputs": []
    },
    {
      "metadata": {
        "trusted": true,
        "_uuid": "02fe7a22719b7a3ef3b0225b6d5a7c318442dea4"
      },
      "cell_type": "code",
      "source": "",
      "execution_count": null,
      "outputs": []
    },
    {
      "metadata": {
        "trusted": true,
        "_uuid": "c3c0897aaa18d72eee23e04efc5075d9888a43bc"
      },
      "cell_type": "code",
      "source": "",
      "execution_count": null,
      "outputs": []
    },
    {
      "metadata": {
        "_uuid": "eb7d327a90d9e7349971b35522b5610f2d4865e6"
      },
      "cell_type": "markdown",
      "source": "## Modeling"
    },
    {
      "metadata": {
        "trusted": true,
        "_uuid": "93877ac225f52e079f97946e0b90e1b8d91d5f50"
      },
      "cell_type": "code",
      "source": "im_height = 64\nim_weight = 64\nim_size = (im_height, im_weight)\nbatch_size = 500",
      "execution_count": null,
      "outputs": []
    },
    {
      "metadata": {
        "trusted": true,
        "_uuid": "ef2d7fb8aa2dd784727d484821be5487b3e36295"
      },
      "cell_type": "code",
      "source": "from keras.models import Sequential\nfrom keras.layers import Conv2D, MaxPool2D, Flatten, Dense",
      "execution_count": null,
      "outputs": []
    },
    {
      "metadata": {
        "trusted": true,
        "_uuid": "220859b7d9ad6747345f6e1dd6af5616abb3039d"
      },
      "cell_type": "code",
      "source": "# Initialization\nmodel = Sequential()",
      "execution_count": null,
      "outputs": []
    },
    {
      "metadata": {
        "trusted": true,
        "_uuid": "83a266e06838accda625453eb06e10e17914f108"
      },
      "cell_type": "code",
      "source": "# ConvNet_1\nmodel.add(Conv2D(128, kernel_size = 3, input_shape = (im_height, im_weight, 3), padding = 'same', activation = 'relu'))\nmodel.add(MaxPool2D(2, strides = 2))\n\n# ConvNet_2\nmodel.add(Conv2D(64, kernel_size = 3, activation = 'relu'))\nmodel.add(MaxPool2D(2, strides = 2))\n\n# flattening\nmodel.add(Flatten())\n\n# fully connected layer\nmodel.add(Dense(output_dim = 512, activation = 'relu'))\n\n# Reguralization\nmodel.add(Dropout(.5))\n\n# Softmax \nmodel.add(Dense(n_class, activation = 'softmax'))\n\n# Compile\nmodel.compile(optimizer = 'adam', loss = 'categorical_crossentropy', metrics = ['accuracy'])",
      "execution_count": null,
      "outputs": []
    },
    {
      "metadata": {
        "trusted": true,
        "_uuid": "51e12ac362196a2476cce32d58b785c587c7ee55"
      },
      "cell_type": "code",
      "source": "model.summary()",
      "execution_count": null,
      "outputs": []
    },
    {
      "metadata": {
        "_uuid": "f0cc1bc3345a28f07e1191f793bb02b5d6b11859"
      },
      "cell_type": "markdown",
      "source": "## Prediction"
    },
    {
      "metadata": {
        "trusted": true,
        "_uuid": "e4c8424c6761b9353bff3d808da9f5ea06603ec9"
      },
      "cell_type": "code",
      "source": "",
      "execution_count": null,
      "outputs": []
    },
    {
      "metadata": {
        "trusted": true,
        "_uuid": "77124c631f89b4c0b4779fb5ef1dda466fc21a42"
      },
      "cell_type": "code",
      "source": "",
      "execution_count": null,
      "outputs": []
    },
    {
      "metadata": {
        "trusted": true,
        "_uuid": "28a5aabb234a9547f94b328d9d88b39a575866a6"
      },
      "cell_type": "code",
      "source": "",
      "execution_count": null,
      "outputs": []
    },
    {
      "metadata": {
        "trusted": true,
        "_uuid": "9db49db26e7570622efb5ac2f9571867a5673079"
      },
      "cell_type": "code",
      "source": "",
      "execution_count": null,
      "outputs": []
    },
    {
      "metadata": {
        "trusted": true,
        "_uuid": "4b249222b57614447262a416adc9534db890dd21"
      },
      "cell_type": "code",
      "source": "",
      "execution_count": null,
      "outputs": []
    },
    {
      "metadata": {
        "trusted": true,
        "_uuid": "210de1a5bca5e149de01740b745b332d873d91c0"
      },
      "cell_type": "code",
      "source": "",
      "execution_count": null,
      "outputs": []
    },
    {
      "metadata": {
        "trusted": true,
        "_uuid": "8569c122e50c34805ceb56eea5d51692d395ceba"
      },
      "cell_type": "code",
      "source": "",
      "execution_count": null,
      "outputs": []
    },
    {
      "metadata": {
        "trusted": true,
        "_uuid": "f3194fcb913ad8506fe299f334c5f813a66fd7e8"
      },
      "cell_type": "code",
      "source": "",
      "execution_count": null,
      "outputs": []
    },
    {
      "metadata": {
        "trusted": true,
        "_uuid": "8e94a7cce3bbd01c5bf3369b160b92bd642988d5"
      },
      "cell_type": "code",
      "source": "",
      "execution_count": null,
      "outputs": []
    },
    {
      "metadata": {
        "trusted": true,
        "_uuid": "dfb0699fbae0950a1639f77e04570d67f9958493"
      },
      "cell_type": "code",
      "source": "",
      "execution_count": null,
      "outputs": []
    }
  ],
  "metadata": {
    "kernelspec": {
      "display_name": "Python 3",
      "language": "python",
      "name": "python3"
    },
    "language_info": {
      "name": "python",
      "version": "3.6.6",
      "mimetype": "text/x-python",
      "codemirror_mode": {
        "name": "ipython",
        "version": 3
      },
      "pygments_lexer": "ipython3",
      "nbconvert_exporter": "python",
      "file_extension": ".py"
    }
  },
  "nbformat": 4,
  "nbformat_minor": 1
}